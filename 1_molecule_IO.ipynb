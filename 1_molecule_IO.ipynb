{
 "cells": [
  {
   "cell_type": "code",
   "execution_count": 90,
   "metadata": {},
   "outputs": [],
   "source": [
    "## reading, Drawing and writing molecules"
   ]
  },
  {
   "cell_type": "code",
   "execution_count": 91,
   "metadata": {},
   "outputs": [],
   "source": [
    "from rdkit import Chem\n",
    "from rdkit.Chem import Draw,AllChem\n",
    "from rdkit.Chem.Draw import IPythonConsole\n",
    "import pandas as pd\n",
    "rdkit.__version__"
   ]
  },
  {
   "cell_type": "code",
   "execution_count": 92,
   "metadata": {},
   "outputs": [
    {
     "data": {
      "image/png": "[encoded data removed]",
      "text/plain": [
       "<rdkit.Chem.rdchem.Mol at 0x1680a9420>"
      ]
     },
     "execution_count": 92,
     "metadata": {},
     "output_type": "execute_result"
    }
   ],
   "source": [
    "# read from string\n",
    "amol = Chem.MolFromSmiles('c1ccccc1')\n",
    "img = Draw.MolToImageFile(amol,\"temp.png\")\n",
    "amol"
   ]
  },
  {
   "cell_type": "code",
   "execution_count": 93,
   "metadata": {},
   "outputs": [
    {
     "data": {
      "text/plain": [
       "0    CC(C)C(C(=O)OC(C#N)c1cccc(Oc2ccccc2)c1)c1ccc(C...\n",
       "1               CCOC(=O)NC(=S)Nc1ccccc1NC(=S)NC(=O)OCC\n",
       "Name: Smiles, dtype: object"
      ]
     },
     "execution_count": 93,
     "metadata": {},
     "output_type": "execute_result"
    }
   ],
   "source": [
    "# read a set of mol from a file .csv\n",
    "# test file from chembl drug data https://www.ebi.ac.uk/chembl/g/#browse/drugs\n",
    "infilename = \"chembl_drug.csv\"\n",
    "infile = pd.read_csv(infilename,sep=\";\").head(100)\n",
    "# print(infile.columns)\n",
    "smiles = infile.Smiles.head(2)\n",
    "smiles"
   ]
  },
  {
   "cell_type": "code",
   "execution_count": 94,
   "metadata": {},
   "outputs": [
    {
     "name": "stdout",
     "output_type": "stream",
     "text": [
      "FENVALERATE\n",
      "CC(C)C(C(=O)OC(C#N)c1cccc(Oc2ccccc2)c1)c1ccc(Cl)cc1\n"
     ]
    }
   ],
   "source": [
    "# read from sdf file\n",
    "suppl = Chem.SDMolSupplier(\"chembl_drug.sdf\")\n",
    "for mol in suppl:\n",
    "    print(mol.GetProp(\"_Name\"))\n",
    "    print(mol.GetProp(\"smiles\"))\n",
    "    break"
   ]
  },
  {
   "cell_type": "code",
   "execution_count": 95,
   "metadata": {},
   "outputs": [],
   "source": [
    "# write smiles to sdf file\n",
    "with Chem.SDWriter(\"chembl_drug.sdf\") as f:\n",
    "    for index,row in infile.iterrows():\n",
    "        name = row[\"Name\"]\n",
    "        smiles = row[\"Smiles\"]\n",
    "        mol = Chem.MolFromSmiles(smiles)\n",
    "        # 3d\n",
    "        # hmol = Chem.AddHs(mol)\n",
    "        # AllChem.EmbedMolecule(hmol)\n",
    "        # AllChem.MMFFOptimizeMolecule(hmol)\n",
    "        mol.SetProp(\"_Name\",\"%s\"%name)\n",
    "        mol.SetProp(\"smiles\",\"%s\"%smiles)\n",
    "        f.write(mol)\n",
    "    "
   ]
  },
  {
   "cell_type": "code",
   "execution_count": null,
   "metadata": {},
   "outputs": [],
   "source": []
  }
 ],
 "metadata": {
  "kernelspec": {
   "display_name": "yf_rdkit",
   "language": "python",
   "name": "python3"
  },
  "language_info": {
   "codemirror_mode": {
    "name": "ipython",
    "version": 3
   },
   "file_extension": ".py",
   "mimetype": "text/x-python",
   "name": "python",
   "nbconvert_exporter": "python",
   "pygments_lexer": "ipython3",
   "version": "3.10.5"
  }
 },
 "nbformat": 4,
 "nbformat_minor": 2
}
